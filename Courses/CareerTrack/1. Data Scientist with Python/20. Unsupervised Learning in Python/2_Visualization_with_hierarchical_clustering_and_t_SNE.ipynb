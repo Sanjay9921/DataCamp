{
  "nbformat": 4,
  "nbformat_minor": 0,
  "metadata": {
    "colab": {
      "name": "2. Visualization with hierarchical clustering and t-SNE.ipynb",
      "provenance": [],
      "collapsed_sections": [],
      "toc_visible": true
    },
    "kernelspec": {
      "name": "python3",
      "display_name": "Python 3"
    }
  },
  "cells": [
    {
      "cell_type": "markdown",
      "metadata": {
        "id": "4bTRSUPjNGmE",
        "colab_type": "text"
      },
      "source": [
        "# 1. Hierarchical clustering of the grain data\n",
        "In the video, you learned that the SciPy linkage() function performs hierarchical clustering on an array of samples. Use the linkage() function to obtain a hierarchical clustering of the grain samples, and use dendrogram() to visualize the result. A sample of the grain measurements is provided in the array samples, while the variety of each grain sample is given by the list varieties."
      ]
    },
    {
      "cell_type": "code",
      "metadata": {
        "id": "mP7fHhzrM63s",
        "colab_type": "code",
        "colab": {
          "base_uri": "https://localhost:8080/",
          "height": 70
        },
        "outputId": "00ee0ea9-f16b-4ac7-eacb-2fc40b36b26e"
      },
      "source": [
        "import pandas as pd\n",
        "import numpy as np\n",
        "import matplotlib.pyplot as plt\n",
        "import seaborn as sns"
      ],
      "execution_count": 2,
      "outputs": [
        {
          "output_type": "stream",
          "text": [
            "/usr/local/lib/python3.6/dist-packages/statsmodels/tools/_testing.py:19: FutureWarning: pandas.util.testing is deprecated. Use the functions in the public API at pandas.testing instead.\n",
            "  import pandas.util.testing as tm\n"
          ],
          "name": "stderr"
        }
      ]
    },
    {
      "cell_type": "code",
      "metadata": {
        "id": "1wODVEFyNLrv",
        "colab_type": "code",
        "colab": {},
        "cellView": "form"
      },
      "source": [
        "#@title samples added here\n",
        "samples = np.array([[14.88  , 14.57  ,  0.8811,  5.554 ,  3.333 ,  1.018 ,  4.956 ],\n",
        "       [14.69  , 14.49  ,  0.8799,  5.563 ,  3.259 ,  3.586 ,  5.219 ],\n",
        "       [14.03  , 14.16  ,  0.8796,  5.438 ,  3.201 ,  1.717 ,  5.001 ],\n",
        "       [13.99  , 13.83  ,  0.9183,  5.119 ,  3.383 ,  5.234 ,  4.781 ],\n",
        "       [14.11  , 14.26  ,  0.8722,  5.52  ,  3.168 ,  2.688 ,  5.219 ],\n",
        "       [13.02  , 13.76  ,  0.8641,  5.395 ,  3.026 ,  3.373 ,  4.825 ],\n",
        "       [15.49  , 14.94  ,  0.8724,  5.757 ,  3.371 ,  3.412 ,  5.228 ],\n",
        "       [16.2   , 15.27  ,  0.8734,  5.826 ,  3.464 ,  2.823 ,  5.527 ],\n",
        "       [13.5   , 13.85  ,  0.8852,  5.351 ,  3.158 ,  2.249 ,  5.176 ],\n",
        "       [15.36  , 14.76  ,  0.8861,  5.701 ,  3.393 ,  1.367 ,  5.132 ],\n",
        "       [15.78  , 14.91  ,  0.8923,  5.674 ,  3.434 ,  5.593 ,  5.136 ],\n",
        "       [14.46  , 14.35  ,  0.8818,  5.388 ,  3.377 ,  2.802 ,  5.044 ],\n",
        "       [11.23  , 12.63  ,  0.884 ,  4.902 ,  2.879 ,  2.269 ,  4.703 ],\n",
        "       [14.34  , 14.37  ,  0.8726,  5.63  ,  3.19  ,  1.313 ,  5.15  ],\n",
        "       [16.84  , 15.67  ,  0.8623,  5.998 ,  3.484 ,  4.675 ,  5.877 ],\n",
        "       [17.32  , 15.91  ,  0.8599,  6.064 ,  3.403 ,  3.824 ,  5.922 ],\n",
        "       [18.72  , 16.19  ,  0.8977,  6.006 ,  3.857 ,  5.324 ,  5.879 ],\n",
        "       [18.88  , 16.26  ,  0.8969,  6.084 ,  3.764 ,  1.649 ,  6.109 ],\n",
        "       [18.76  , 16.2   ,  0.8984,  6.172 ,  3.796 ,  3.12  ,  6.053 ],\n",
        "       [19.31  , 16.59  ,  0.8815,  6.341 ,  3.81  ,  3.477 ,  6.238 ],\n",
        "       [17.99  , 15.86  ,  0.8992,  5.89  ,  3.694 ,  2.068 ,  5.837 ],\n",
        "       [18.85  , 16.17  ,  0.9056,  6.152 ,  3.806 ,  2.843 ,  6.2   ],\n",
        "       [19.38  , 16.72  ,  0.8716,  6.303 ,  3.791 ,  3.678 ,  5.965 ],\n",
        "       [18.96  , 16.2   ,  0.9077,  6.051 ,  3.897 ,  4.334 ,  5.75  ],\n",
        "       [18.14  , 16.12  ,  0.8772,  6.059 ,  3.563 ,  3.619 ,  6.011 ],\n",
        "       [18.65  , 16.41  ,  0.8698,  6.285 ,  3.594 ,  4.391 ,  6.102 ],\n",
        "       [18.94  , 16.32  ,  0.8942,  6.144 ,  3.825 ,  2.908 ,  5.949 ],\n",
        "       [17.36  , 15.76  ,  0.8785,  6.145 ,  3.574 ,  3.526 ,  5.971 ],\n",
        "       [13.32  , 13.94  ,  0.8613,  5.541 ,  3.073 ,  7.035 ,  5.44  ],\n",
        "       [11.43  , 13.13  ,  0.8335,  5.176 ,  2.719 ,  2.221 ,  5.132 ],\n",
        "       [12.01  , 13.52  ,  0.8249,  5.405 ,  2.776 ,  6.992 ,  5.27  ],\n",
        "       [11.34  , 12.87  ,  0.8596,  5.053 ,  2.849 ,  3.347 ,  5.003 ],\n",
        "       [12.02  , 13.33  ,  0.8503,  5.35  ,  2.81  ,  4.271 ,  5.308 ],\n",
        "       [12.44  , 13.59  ,  0.8462,  5.319 ,  2.897 ,  4.924 ,  5.27  ],\n",
        "       [11.55  , 13.1   ,  0.8455,  5.167 ,  2.845 ,  6.715 ,  4.956 ],\n",
        "       [11.26  , 13.01  ,  0.8355,  5.186 ,  2.71  ,  5.335 ,  5.092 ],\n",
        "       [12.46  , 13.41  ,  0.8706,  5.236 ,  3.017 ,  4.987 ,  5.147 ],\n",
        "       [11.81  , 13.45  ,  0.8198,  5.413 ,  2.716 ,  4.898 ,  5.352 ],\n",
        "       [11.27  , 12.86  ,  0.8563,  5.091 ,  2.804 ,  3.985 ,  5.001 ],\n",
        "       [12.79  , 13.53  ,  0.8786,  5.224 ,  3.054 ,  5.483 ,  4.958 ],\n",
        "       [12.67  , 13.32  ,  0.8977,  4.984 ,  3.135 ,  2.3   ,  4.745 ],\n",
        "       [11.23  , 12.88  ,  0.8511,  5.14  ,  2.795 ,  4.325 ,  5.003 ]])"
      ],
      "execution_count": 4,
      "outputs": []
    },
    {
      "cell_type": "code",
      "metadata": {
        "id": "CAjp-MH4OUPm",
        "colab_type": "code",
        "colab": {},
        "cellView": "form"
      },
      "source": [
        "#@title Varieties Added here\n",
        "varieties = ['Kama wheat',\n",
        " 'Kama wheat',\n",
        " 'Kama wheat',\n",
        " 'Kama wheat',\n",
        " 'Kama wheat',\n",
        " 'Kama wheat',\n",
        " 'Kama wheat',\n",
        " 'Kama wheat',\n",
        " 'Kama wheat',\n",
        " 'Kama wheat',\n",
        " 'Kama wheat',\n",
        " 'Kama wheat',\n",
        " 'Kama wheat',\n",
        " 'Kama wheat',\n",
        " 'Rosa wheat',\n",
        " 'Rosa wheat',\n",
        " 'Rosa wheat',\n",
        " 'Rosa wheat',\n",
        " 'Rosa wheat',\n",
        " 'Rosa wheat',\n",
        " 'Rosa wheat',\n",
        " 'Rosa wheat',\n",
        " 'Rosa wheat',\n",
        " 'Rosa wheat',\n",
        " 'Rosa wheat',\n",
        " 'Rosa wheat',\n",
        " 'Rosa wheat',\n",
        " 'Rosa wheat',\n",
        " 'Canadian wheat',\n",
        " 'Canadian wheat',\n",
        " 'Canadian wheat',\n",
        " 'Canadian wheat',\n",
        " 'Canadian wheat',\n",
        " 'Canadian wheat',\n",
        " 'Canadian wheat',\n",
        " 'Canadian wheat',\n",
        " 'Canadian wheat',\n",
        " 'Canadian wheat',\n",
        " 'Canadian wheat',\n",
        " 'Canadian wheat',\n",
        " 'Canadian wheat',\n",
        " 'Canadian wheat']"
      ],
      "execution_count": 5,
      "outputs": []
    },
    {
      "cell_type": "code",
      "metadata": {
        "id": "v4n1-l2WO5hW",
        "colab_type": "code",
        "colab": {
          "base_uri": "https://localhost:8080/",
          "height": 306
        },
        "outputId": "0f2f4625-4a62-4625-ca5d-65ceb91e8cd0"
      },
      "source": [
        "# Perform the necessary imports\n",
        "from scipy.cluster.hierarchy import linkage, dendrogram\n",
        "import matplotlib.pyplot as plt\n",
        "\n",
        "# Calculate the linkage: mergings\n",
        "mergings = linkage(samples,method=\"complete\")\n",
        "\n",
        "# Plot the dendrogram, using varieties as labels\n",
        "dendrogram(mergings,\n",
        "           labels=varieties,\n",
        "           leaf_rotation=90,\n",
        "           leaf_font_size=6,\n",
        ")\n",
        "plt.show()\n"
      ],
      "execution_count": 6,
      "outputs": [
        {
          "output_type": "display_data",
          "data": {
            "image/png": "[encoded data removed]",
            "text/plain": [
              "<Figure size 432x288 with 1 Axes>"
            ]
          },
          "metadata": {
            "tags": [],
            "needs_background": "light"
          }
        }
      ]
    },
    {
      "cell_type": "markdown",
      "metadata": {
        "id": "ThZlvxvucIp6",
        "colab_type": "text"
      },
      "source": [
        "# 2. Hierarchies of stocks\n",
        "In chapter 1, you used k-means clustering to cluster companies according to their stock price movements. Now, you'll perform hierarchical clustering of the companies. You are given a NumPy array of price movements movements, where the rows correspond to companies, and a list of the company names companies. SciPy hierarchical clustering doesn't fit into a sklearn pipeline, so you'll need to use the normalize() function from sklearn.preprocessing instead of Normalizer.\n",
        "\n",
        "linkage and dendrogram have already been imported from scipy.cluster.hierarchy, and PyPlot has been imported as plt."
      ]
    },
    {
      "cell_type": "code",
      "metadata": {
        "id": "9zd86xd9dAyH",
        "colab_type": "code",
        "colab": {}
      },
      "source": [
        "url = \"/content/company-stock-movements-2010-2015-incl.csv\"\n",
        "df = pd.read_csv(url)\n",
        "movements = np.array(df.loc[:,\"2010-01-04\":])\n",
        "companies = np.array(df.loc[:,\"Unnamed: 0\"])"
      ],
      "execution_count": 9,
      "outputs": []
    },
    {
      "cell_type": "code",
      "metadata": {
        "id": "dM6nCIzmb1Go",
        "colab_type": "code",
        "colab": {
          "base_uri": "https://localhost:8080/",
          "height": 368
        },
        "outputId": "dc55a796-aaca-473a-f619-b7f476f56636"
      },
      "source": [
        "# Import normalize\n",
        "from sklearn.preprocessing import normalize\n",
        "\n",
        "# Normalize the movements: normalized_movements\n",
        "normalized_movements = normalize(movements)\n",
        "\n",
        "# Calculate the linkage: mergings\n",
        "mergings = linkage(normalized_movements,method=\"complete\")\n",
        "\n",
        "# Plot the dendrogram\n",
        "dendrogram(mergings,labels=companies,leaf_rotation=90,leaf_font_size=6)\n",
        "plt.show()\n"
      ],
      "execution_count": 10,
      "outputs": [
        {
          "output_type": "display_data",
          "data": {
            "image/png": "[encoded data removed]",
            "text/plain": [
              "<Figure size 432x288 with 1 Axes>"
            ]
          },
          "metadata": {
            "tags": [],
            "needs_background": "light"
          }
        }
      ]
    },
    {
      "cell_type": "markdown",
      "metadata": {
        "id": "Ro2pa0Uwd-AJ",
        "colab_type": "text"
      },
      "source": [
        "# 3. Different linkage, different hierarchical clustering!\n",
        "In the video, you saw a hierarchical clustering of the voting countries at the Eurovision song contest using 'complete' linkage. Now, perform a hierarchical clustering of the voting countries with 'single' linkage, and compare the resulting dendrogram with the one in the video. Different linkage, different hierarchical clustering!\n",
        "\n",
        "You are given an array samples. Each row corresponds to a voting country, and each column corresponds to a performance that was voted for. The list country_names gives the name of each voting country. This dataset was obtained from Eurovision."
      ]
    },
    {
      "cell_type": "code",
      "metadata": {
        "id": "WhObge6rcK2v",
        "colab_type": "code",
        "colab": {},
        "cellView": "form"
      },
      "source": [
        "#@title samples added here\n",
        "samples = np.array([[ 2., 12.,  0.,  0.,  0.,  8.,  0.,  0.,  0.,  0.,  0.,  0.,  1.,\n",
        "         0., 10.,  0.,  4.,  0.,  5.,  7.,  0.,  0.,  3.,  0.,  6.,  0.],\n",
        "       [12.,  0.,  4.,  0.,  0.,  0.,  0.,  6.,  0.,  7.,  8.,  0.,  3.,\n",
        "         0.,  0.,  0.,  0.,  5.,  1., 12.,  0.,  0.,  2.,  0., 10.,  0.],\n",
        "       [ 0., 12.,  3.,  0., 12., 10.,  0.,  0.,  0.,  7.,  0.,  0.,  0.,\n",
        "         0.,  0.,  0.,  1.,  6.,  0.,  5.,  0.,  2.,  0.,  0.,  8.,  4.],\n",
        "       [ 0.,  3., 12.,  0.,  0.,  5.,  0.,  0.,  0.,  1.,  0.,  2.,  0.,\n",
        "         0.,  0.,  0.,  0.,  0., 12.,  8.,  4.,  0.,  7.,  6., 10.,  0.],\n",
        "       [ 0.,  2.,  0., 12.,  0.,  8.,  0.,  0.,  0.,  4.,  1.,  0.,  7.,\n",
        "         6.,  0.,  0.,  0.,  5.,  3., 12.,  0.,  0.,  0.,  0., 10.,  0.],\n",
        "       [ 7.,  1.,  0.,  8.,  0.,  4.,  0.,  0.,  0.,  0.,  0.,  0.,  3.,\n",
        "         0.,  0.,  5.,  0.,  0.,  6., 12.,  0.,  0.,  2.,  0., 10.,  0.],\n",
        "       [ 7.,  4.,  3.,  0., 12.,  5.,  0.,  0.,  0.,  8.,  0.,  0.,  0.,\n",
        "         0.,  0.,  0.,  0.,  0., 12.,  6.,  0.,  0.,  1., 10.,  2.,  0.],\n",
        "       [ 0.,  3.,  5.,  8.,  0.,  2., 10.,  0.,  0.,  4.,  0.,  0.,  1.,\n",
        "         0.,  0.,  0.,  0.,  0.,  0.,  6., 12.,  0.,  0.,  0.,  7.,  0.],\n",
        "       [ 8.,  5.,  4.,  1.,  0., 12.,  0.,  7.,  0.,  0.,  0.,  0.,  0.,\n",
        "         2.,  0.,  0.,  0.,  0.,  6., 12.,  0.,  0.,  3.,  0., 10.,  0.],\n",
        "       [ 0.,  5.,  6.,  0.,  0.,  1., 12.,  0.,  0.,  2.,  0.,  0.,  3.,\n",
        "         0.,  0.,  0.,  0.,  0.,  4.,  8., 12.,  0.,  7.,  0., 10.,  0.],\n",
        "         [ 8.,  5.,  0.,  0.,  0., 12.,  0., 12.,  0.,  6.,  0.,  0.,  4.,\n",
        "         0.,  0.,  0.,  3.,  0.,  2., 10.,  0.,  0.,  1.,  0.,  7.,  0.],\n",
        "       [ 8.,  1.,  4.,  6.,  0.,  5.,  0.,  0., 12.,  0.,  0.,  0.,  3.,\n",
        "         0.,  0.,  0.,  0.,  0.,  7., 10.,  0.,  0.,  2.,  0., 12.,  0.],\n",
        "       [ 0., 10.,  1.,  0.,  8.,  0.,  0.,  0.,  0.,  2.,  0.,  0.,  0.,\n",
        "         0.,  0.,  0.,  6.,  0.,  5.,  4.,  0.,  0., 12.,  7.,  3.,  0.],\n",
        "       [ 0.,  4.,  6.,  0.,  0.,  0.,  0.,  3.,  0.,  2.,  0.,  0.,  0.,\n",
        "         0.,  0.,  7.,  5.,  0.,  1., 12.,  0.,  0., 10.,  0.,  8.,  0.],\n",
        "       [ 7.,  3.,  0.,  0.,  4., 10.,  5.,  0.,  0.,  0.,  0.,  0.,  0.,\n",
        "         0.,  1.,  0.,  0.,  0.,  2.,  8., 12.,  0.,  0.,  0.,  6.,  0.],\n",
        "       [ 0.,  7.,  6.,  0.,  0.,  4.,  0.,  1.,  0.,  3.,  0.,  0.,  0.,\n",
        "         0.,  0.,  2.,  0.,  0.,  5.,  8.,  0.,  0., 10.,  0., 12.,  0.],\n",
        "       [12.,  0.,  8.,  0.,  4.,  5.,  0.,  0.,  0., 12.,  0.,  0.,  0.,\n",
        "         3.,  0.,  0.,  0.,  0.,  7.,  6.,  0.,  1.,  2.,  0., 10.,  0.],\n",
        "       [12.,  1.,  0.,  7.,  0.,  3.,  0.,  0.,  0.,  0., 12.,  0.,  2.,\n",
        "         0.,  0.,  6.,  5.,  0.,  4.,  8.,  0.,  0.,  0.,  0., 10.,  0.],\n",
        "       [ 2.,  5.,  7.,  0.,  0.,  4.,  0.,  0.,  0.,  0.,  0., 12.,  0.,\n",
        "         0.,  1.,  0.,  0.,  0., 10., 12.,  0.,  0.,  8.,  3.,  6.,  0.],\n",
        "       [ 8.,  5.,  1.,  0.,  0.,  7.,  0., 12.,  0.,  4.,  0.,  0.,  2.,\n",
        "         0.,  0.,  0.,  0.,  0.,  3., 10.,  0.,  0.,  0.,  0.,  6.,  0.],\n",
        "         [ 0.,  3.,  6.,  0.,  0.,  4.,  0.,  5.,  0.,  1.,  0.,  0., 12.,\n",
        "         0.,  0.,  0.,  0.,  0.,  8., 10.,  0.,  0.,  7.,  2., 12.,  0.],\n",
        "       [ 0.,  8.,  2.,  1.,  3.,  0.,  0.,  0.,  0.,  5.,  0.,  0.,  0.,\n",
        "         0.,  0.,  0.,  4.,  0., 10.,  7.,  0.,  0., 12.,  6.,  0.,  0.],\n",
        "       [ 0.,  6.,  1.,  0.,  0.,  5.,  0.,  0.,  0.,  0.,  0.,  0.,  0.,\n",
        "         0.,  0.,  7., 12.,  0., 10.,  8.,  0.,  0.,  2.,  0.,  4.,  3.],\n",
        "       [ 6.,  5.,  3.,  2.,  1.,  7.,  0.,  0.,  0., 12.,  0.,  0.,  0.,\n",
        "        12.,  0.,  0.,  0.,  0.,  4., 10.,  0.,  0.,  0.,  0.,  8.,  0.],\n",
        "       [ 1.,  0.,  0.,  0.,  0.,  7.,  0.,  6.,  0.,  5.,  3.,  0.,  0.,\n",
        "         0., 12.,  0.,  2.,  0., 10.,  8.,  4.,  0.,  0.,  0., 12.,  0.],\n",
        "       [ 0.,  6.,  4.,  3.,  0.,  1.,  0.,  0.,  0.,  0.,  2.,  0.,  0.,\n",
        "         0.,  0., 12.,  8.,  0.,  5., 12.,  0.,  0.,  7.,  0., 10.,  0.],\n",
        "       [ 0.,  5.,  1.,  0.,  0.,  0.,  0.,  0.,  0.,  3.,  4.,  0.,  2.,\n",
        "         0.,  0., 12., 12.,  0.,  6.,  8.,  0.,  0.,  7.,  0., 10.,  0.],\n",
        "       [ 0., 12.,  0.,  6.,  0.,  8.,  0.,  0.,  0.,  2.,  0.,  0.,  5.,\n",
        "         0.,  7.,  0.,  0., 12.,  0., 10.,  0.,  0.,  0.,  3.,  4.,  1.],\n",
        "       [ 7.,  5.,  4.,  8.,  0.,  2.,  0.,  0.,  0.,  6.,  0.,  0.,  0.,\n",
        "         0.,  0.,  1.,  3.,  0.,  0., 12.,  0.,  0.,  0.,  0., 10.,  0.],\n",
        "       [ 0.,  0.,  0.,  7.,  0.,  5.,  6.,  0.,  0.,  1.,  0.,  0.,  3.,\n",
        "         0.,  4.,  0.,  2.,  0.,  0., 10., 12.,  0.,  0.,  0.,  8.,  0.],\n",
        "         [ 0.,  8.,  0.,  0.,  2.,  5.,  0.,  0.,  0.,  1.,  0.,  0.,  0.,\n",
        "         0.,  0.,  3., 12.,  0., 10.,  6.,  0.,  0.,  7.,  0.,  4.,  0.],\n",
        "       [ 2.,  7.,  4.,  0.,  0.,  3.,  0.,  1.,  0.,  0.,  0.,  0.,  6.,\n",
        "         0.,  0.,  5.,  0.,  0., 12.,  8.,  0.,  0., 10.,  0., 12.,  0.],\n",
        "       [12.,  4.,  8.,  6.,  0.,  0.,  0.,  7.,  0.,  3.,  0.,  0.,  0.,\n",
        "         0.,  0.,  1.,  0.,  0.,  5., 12.,  0.,  0.,  2.,  0., 10.,  0.],\n",
        "       [ 2.,  5.,  0.,  0.,  0.,  3.,  0.,  0.,  0.,  0.,  0.,  0.,  1.,\n",
        "         0.,  0.,  6.,  8.,  0.,  7., 10.,  0.,  0.,  4.,  0., 12.,  0.],\n",
        "       [ 2.,  6.,  0.,  0.,  5.,  8.,  4.,  3.,  0.,  0.,  0.,  0., 10.,\n",
        "         0.,  0.,  0.,  0.,  0.,  0., 12., 12.,  0.,  1.,  0.,  7.,  0.],\n",
        "       [ 0.,  3.,  6.,  0.,  0.,  2.,  8.,  0.,  0.,  0.,  0.,  0.,  0.,\n",
        "         0.,  1.,  0.,  0.,  0.,  4., 10., 12.,  0.,  5.,  0.,  7.,  0.],\n",
        "       [ 6.,  4.,  2.,  0.,  0., 12.,  0.,  0.,  0., 10.,  0.,  0.,  0.,\n",
        "         0.,  3.,  0.,  0.,  0.,  5.,  8.,  0., 12.,  1.,  0.,  7.,  0.],\n",
        "       [ 0., 12.,  5.,  0.,  0.,  4.,  0.,  0.,  0.,  3.,  0.,  0.,  0.,\n",
        "         0.,  0.,  0.,  6.,  0., 10.,  8.,  0.,  1., 12.,  2.,  7.,  0.],\n",
        "       [ 0.,  1., 10.,  0.,  0.,  0.,  0.,  0.,  0.,  3.,  0.,  8.,  0.,\n",
        "         0.,  7.,  0.,  0.,  0.,  5.,  6., 12.,  2.,  0.,  0.,  4.,  0.],\n",
        "       [ 8.,  5.,  6.,  0., 12.,  1.,  0.,  0.,  0.,  4.,  0.,  0.,  0.,\n",
        "         0.,  0.,  0.,  0.,  0., 10.,  3.,  0.,  0.,  2., 12.,  7.,  0.],\n",
        "         [ 7.,  4.,  0., 10.,  0.,  2.,  0.,  0.,  0.,  0.,  6.,  0.,  0.,\n",
        "         0.,  0.,  5.,  3.,  0.,  8., 12.,  0.,  0.,  1.,  0., 12.,  0.],\n",
        "       [ 0.,  6.,  0.,  0.,  0.,  8.,  0.,  2.,  0.,  0.,  0.,  0.,  0.,\n",
        "         0.,  0.,  3., 12.,  0., 10.,  7.,  0.,  4.,  1.,  0.,  5., 12.]])"
      ],
      "execution_count": 14,
      "outputs": []
    },
    {
      "cell_type": "code",
      "metadata": {
        "id": "5TSlKAukfdmx",
        "colab_type": "code",
        "colab": {
          "base_uri": "https://localhost:8080/",
          "height": 34
        },
        "outputId": "e11f1131-b90d-4f30-a706-d8aa53c52e8c"
      },
      "source": [
        "len(samples)"
      ],
      "execution_count": 15,
      "outputs": [
        {
          "output_type": "execute_result",
          "data": {
            "text/plain": [
              "42"
            ]
          },
          "metadata": {
            "tags": []
          },
          "execution_count": 15
        }
      ]
    },
    {
      "cell_type": "code",
      "metadata": {
        "id": "Hj8FENioguFU",
        "colab_type": "code",
        "colab": {},
        "cellView": "form"
      },
      "source": [
        "#@title country names added here\n",
        "country_names = ['Albania',\n",
        " 'Armenia',\n",
        " 'Australia',\n",
        " 'Austria',\n",
        " 'Azerbaijan',\n",
        " 'Belarus',\n",
        " 'Belgium',\n",
        " 'Bosnia & Herzegovina',\n",
        " 'Bulgaria',\n",
        " 'Croatia',\n",
        " 'Cyprus',\n",
        " 'Czech Republic',\n",
        " 'Denmark',\n",
        " 'Estonia',\n",
        " 'F.Y.R. Macedonia',\n",
        " 'Finland',\n",
        " 'France',\n",
        " 'Georgia',\n",
        " 'Germany',\n",
        " 'Greece',\n",
        " 'Hungary',\n",
        " 'Iceland',\n",
        " 'Ireland',\n",
        " 'Israel',\n",
        " 'Italy',\n",
        " 'Latvia',\n",
        " 'Lithuania',\n",
        " 'Malta',\n",
        " 'Moldova',\n",
        " 'Montenegro',\n",
        " 'Norway',\n",
        " 'Poland',\n",
        " 'Russia',\n",
        " 'San Marino',\n",
        " 'Serbia',\n",
        " 'Slovenia',\n",
        " 'Spain',\n",
        " 'Sweden',\n",
        " 'Switzerland',\n",
        " 'The Netherlands',\n",
        " 'Ukraine',\n",
        " 'United Kingdom']"
      ],
      "execution_count": 16,
      "outputs": []
    },
    {
      "cell_type": "code",
      "metadata": {
        "id": "2-9LIoxug_xZ",
        "colab_type": "code",
        "colab": {
          "base_uri": "https://localhost:8080/",
          "height": 322
        },
        "outputId": "3e76234b-5990-42eb-80cb-1eb2db1d8cce"
      },
      "source": [
        "# Perform the necessary imports\n",
        "import matplotlib.pyplot as plt\n",
        "from scipy.cluster.hierarchy import linkage, dendrogram\n",
        "\n",
        "# Calculate the linkage: mergings\n",
        "mergings = linkage(samples,method=\"single\")\n",
        "\n",
        "# Plot the dendrogram\n",
        "dendrogram(mergings,labels=country_names,leaf_rotation=90,leaf_font_size=6)\n",
        "plt.show()\n"
      ],
      "execution_count": 17,
      "outputs": [
        {
          "output_type": "display_data",
          "data": {
            "image/png": "[encoded data removed]",
            "text/plain": [
              "<Figure size 432x288 with 1 Axes>"
            ]
          },
          "metadata": {
            "tags": [],
            "needs_background": "light"
          }
        }
      ]
    },
    {
      "cell_type": "markdown",
      "metadata": {
        "id": "Gpf87CHufxLY",
        "colab_type": "text"
      },
      "source": [
        "# 4. Extracting the cluster labels\n",
        "In the previous exercise, you saw that the intermediate clustering of the grain samples at height 6 has 3 clusters. Now, use the fcluster() function to extract the cluster labels for this intermediate clustering, and compare the labels with the grain varieties using a cross-tabulation.\n",
        "\n",
        "The hierarchical clustering has already been performed and mergings is the result of the linkage() function. The list varieties gives the variety of each grain sample."
      ]
    },
    {
      "cell_type": "code",
      "metadata": {
        "id": "CbWs5mh_fsU9",
        "colab_type": "code",
        "colab": {
          "base_uri": "https://localhost:8080/",
          "height": 756
        },
        "outputId": "42a9093d-69d3-4bee-80b6-61c80421d149"
      },
      "source": [
        "# Perform the necessary imports\n",
        "import pandas as pd\n",
        "from scipy.cluster.hierarchy import fcluster\n",
        "\n",
        "# Use fcluster to extract labels: labels\n",
        "labels = fcluster(mergings,6,criterion=\"distance\")\n",
        "\n",
        "# Create a DataFrame with labels and varieties as columns: df\n",
        "df = pd.DataFrame({'labels': labels, 'varieties': varieties})\n",
        "\n",
        "# Create crosstab: ct\n",
        "ct = pd.crosstab(df[\"labels\"],df[\"varieties\"])\n",
        "\n",
        "# Display ct\n",
        "print(ct)\n"
      ],
      "execution_count": 18,
      "outputs": [
        {
          "output_type": "stream",
          "text": [
            "varieties  Canadian wheat  Kama wheat  Rosa wheat\n",
            "labels                                           \n",
            "1                       0           1           0\n",
            "2                       1           0           0\n",
            "3                       0           1           0\n",
            "4                       1           0           0\n",
            "5                       0           1           0\n",
            "6                       1           0           0\n",
            "7                       0           0           1\n",
            "8                       1           0           0\n",
            "9                       1           0           0\n",
            "10                      0           0           1\n",
            "11                      0           0           1\n",
            "12                      0           1           0\n",
            "13                      0           0           1\n",
            "14                      0           1           0\n",
            "15                      0           1           0\n",
            "16                      1           0           0\n",
            "17                      0           0           1\n",
            "18                      1           0           0\n",
            "19                      1           0           0\n",
            "20                      0           0           1\n",
            "21                      1           0           0\n",
            "22                      0           0           1\n",
            "23                      0           0           1\n",
            "24                      1           0           0\n",
            "25                      0           1           0\n",
            "26                      0           1           0\n",
            "27                      0           0           1\n",
            "28                      0           0           1\n",
            "29                      1           0           0\n",
            "30                      1           0           0\n",
            "31                      1           0           0\n",
            "32                      0           0           1\n",
            "33                      0           1           0\n",
            "34                      0           0           1\n",
            "35                      0           1           0\n",
            "36                      0           1           0\n",
            "37                      0           1           0\n",
            "38                      0           1           0\n",
            "39                      0           0           1\n",
            "40                      0           0           1\n",
            "41                      1           0           0\n",
            "42                      0           1           0\n"
          ],
          "name": "stdout"
        }
      ]
    },
    {
      "cell_type": "markdown",
      "metadata": {
        "id": "ZdaJVkNrhWYC",
        "colab_type": "text"
      },
      "source": [
        "# 5. t-SNE visualization of grain dataset\n",
        "In the video, you saw t-SNE applied to the iris dataset. In this exercise, you'll apply t-SNE to the grain samples data and inspect the resulting t-SNE features using a scatter plot. You are given an array samples of grain samples and a list variety_numbers giving the variety number of each grain sample."
      ]
    },
    {
      "cell_type": "code",
      "metadata": {
        "id": "16UmRexgf8S8",
        "colab_type": "code",
        "colab": {
          "base_uri": "https://localhost:8080/",
          "height": 195
        },
        "outputId": "80fa70d5-8b6a-4f92-c9d3-f8522a23aea6"
      },
      "source": [
        "url = \"/content/seeds.csv\"\n",
        "df = pd.read_csv(url,header=None)\n",
        "df.head()"
      ],
      "execution_count": 24,
      "outputs": [
        {
          "output_type": "execute_result",
          "data": {
            "text/html": [
              "<div>\n",
              "<style scoped>\n",
              "    .dataframe tbody tr th:only-of-type {\n",
              "        vertical-align: middle;\n",
              "    }\n",
              "\n",
              "    .dataframe tbody tr th {\n",
              "        vertical-align: top;\n",
              "    }\n",
              "\n",
              "    .dataframe thead th {\n",
              "        text-align: right;\n",
              "    }\n",
              "</style>\n",
              "<table border=\"1\" class=\"dataframe\">\n",
              "  <thead>\n",
              "    <tr style=\"text-align: right;\">\n",
              "      <th></th>\n",
              "      <th>0</th>\n",
              "      <th>1</th>\n",
              "      <th>2</th>\n",
              "      <th>3</th>\n",
              "      <th>4</th>\n",
              "      <th>5</th>\n",
              "      <th>6</th>\n",
              "      <th>7</th>\n",
              "    </tr>\n",
              "  </thead>\n",
              "  <tbody>\n",
              "    <tr>\n",
              "      <th>0</th>\n",
              "      <td>15.26</td>\n",
              "      <td>14.84</td>\n",
              "      <td>0.8710</td>\n",
              "      <td>5.763</td>\n",
              "      <td>3.312</td>\n",
              "      <td>2.221</td>\n",
              "      <td>5.220</td>\n",
              "      <td>1</td>\n",
              "    </tr>\n",
              "    <tr>\n",
              "      <th>1</th>\n",
              "      <td>14.88</td>\n",
              "      <td>14.57</td>\n",
              "      <td>0.8811</td>\n",
              "      <td>5.554</td>\n",
              "      <td>3.333</td>\n",
              "      <td>1.018</td>\n",
              "      <td>4.956</td>\n",
              "      <td>1</td>\n",
              "    </tr>\n",
              "    <tr>\n",
              "      <th>2</th>\n",
              "      <td>14.29</td>\n",
              "      <td>14.09</td>\n",
              "      <td>0.9050</td>\n",
              "      <td>5.291</td>\n",
              "      <td>3.337</td>\n",
              "      <td>2.699</td>\n",
              "      <td>4.825</td>\n",
              "      <td>1</td>\n",
              "    </tr>\n",
              "    <tr>\n",
              "      <th>3</th>\n",
              "      <td>13.84</td>\n",
              "      <td>13.94</td>\n",
              "      <td>0.8955</td>\n",
              "      <td>5.324</td>\n",
              "      <td>3.379</td>\n",
              "      <td>2.259</td>\n",
              "      <td>4.805</td>\n",
              "      <td>1</td>\n",
              "    </tr>\n",
              "    <tr>\n",
              "      <th>4</th>\n",
              "      <td>16.14</td>\n",
              "      <td>14.99</td>\n",
              "      <td>0.9034</td>\n",
              "      <td>5.658</td>\n",
              "      <td>3.562</td>\n",
              "      <td>1.355</td>\n",
              "      <td>5.175</td>\n",
              "      <td>1</td>\n",
              "    </tr>\n",
              "  </tbody>\n",
              "</table>\n",
              "</div>"
            ],
            "text/plain": [
              "       0      1       2      3      4      5      6  7\n",
              "0  15.26  14.84  0.8710  5.763  3.312  2.221  5.220  1\n",
              "1  14.88  14.57  0.8811  5.554  3.333  1.018  4.956  1\n",
              "2  14.29  14.09  0.9050  5.291  3.337  2.699  4.825  1\n",
              "3  13.84  13.94  0.8955  5.324  3.379  2.259  4.805  1\n",
              "4  16.14  14.99  0.9034  5.658  3.562  1.355  5.175  1"
            ]
          },
          "metadata": {
            "tags": []
          },
          "execution_count": 24
        }
      ]
    },
    {
      "cell_type": "code",
      "metadata": {
        "id": "3pfNhoXDh44U",
        "colab_type": "code",
        "colab": {
          "base_uri": "https://localhost:8080/",
          "height": 134
        },
        "outputId": "0b36f8d9-fa37-40be-bf2e-9ae7613dcc43"
      },
      "source": [
        "samples = np.array(df.loc[:,0:6])\n",
        "samples"
      ],
      "execution_count": 25,
      "outputs": [
        {
          "output_type": "execute_result",
          "data": {
            "text/plain": [
              "array([[15.26  , 14.84  ,  0.871 , ...,  3.312 ,  2.221 ,  5.22  ],\n",
              "       [14.88  , 14.57  ,  0.8811, ...,  3.333 ,  1.018 ,  4.956 ],\n",
              "       [14.29  , 14.09  ,  0.905 , ...,  3.337 ,  2.699 ,  4.825 ],\n",
              "       ...,\n",
              "       [13.2   , 13.66  ,  0.8883, ...,  3.232 ,  8.315 ,  5.056 ],\n",
              "       [11.84  , 13.21  ,  0.8521, ...,  2.836 ,  3.598 ,  5.044 ],\n",
              "       [12.3   , 13.34  ,  0.8684, ...,  2.974 ,  5.637 ,  5.063 ]])"
            ]
          },
          "metadata": {
            "tags": []
          },
          "execution_count": 25
        }
      ]
    },
    {
      "cell_type": "code",
      "metadata": {
        "id": "pQw_QHW3iUSN",
        "colab_type": "code",
        "colab": {},
        "cellView": "form"
      },
      "source": [
        "#@title variety_numbers added here\n",
        "variety_numbers = [1,\n",
        " 1,\n",
        " 1,\n",
        " 1,\n",
        " 1,\n",
        " 1,\n",
        " 1,\n",
        " 1,\n",
        " 1,\n",
        " 1,\n",
        " 1,\n",
        " 1,\n",
        " 1,\n",
        " 1,\n",
        " 1,\n",
        " 1,\n",
        " 1,\n",
        " 1,\n",
        " 1,\n",
        " 1,\n",
        " 1,\n",
        " 1,\n",
        " 1,\n",
        " 1,\n",
        " 1,\n",
        " 1,\n",
        " 1,\n",
        " 1,\n",
        " 1,\n",
        " 1,\n",
        " 1,\n",
        " 1,\n",
        " 1,\n",
        " 1,\n",
        " 1,\n",
        " 1,\n",
        " 1,\n",
        " 1,\n",
        " 1,\n",
        " 1,\n",
        " 1,\n",
        " 1,\n",
        " 1,\n",
        " 1,\n",
        " 1,\n",
        " 1,\n",
        " 1,\n",
        " 1,\n",
        " 1,\n",
        " 1,\n",
        " 1,\n",
        " 1,\n",
        " 1,\n",
        " 1,\n",
        " 1,\n",
        " 1,\n",
        " 1,\n",
        " 1,\n",
        " 1,\n",
        " 1,\n",
        " 1,\n",
        " 1,\n",
        " 1,\n",
        " 1,\n",
        " 1,\n",
        " 1,\n",
        " 1,\n",
        " 1,\n",
        " 1,\n",
        " 1,\n",
        " 2,\n",
        " 2,\n",
        " 2,\n",
        " 2,\n",
        " 2,\n",
        " 2,\n",
        " 2,\n",
        " 2,\n",
        " 2,\n",
        " 2,\n",
        " 2,\n",
        " 2,\n",
        " 2,\n",
        " 2,\n",
        " 2,\n",
        " 2,\n",
        " 2,\n",
        " 2,\n",
        " 2,\n",
        " 2,\n",
        " 2,\n",
        " 2,\n",
        " 2,\n",
        " 2,\n",
        " 2,\n",
        " 2,\n",
        " 2,\n",
        " 2,\n",
        " 2,\n",
        " 2,\n",
        " 2,\n",
        " 2,\n",
        " 2,\n",
        " 2,\n",
        " 2,\n",
        " 2,\n",
        " 2,\n",
        " 2,\n",
        " 2,\n",
        " 2,\n",
        " 2,\n",
        " 2,\n",
        " 2,\n",
        " 2,\n",
        " 2,\n",
        " 2,\n",
        " 2,\n",
        " 2,\n",
        " 2,\n",
        " 2,\n",
        " 2,\n",
        " 2,\n",
        " 2,\n",
        " 2,\n",
        " 2,\n",
        " 2,\n",
        " 2,\n",
        " 2,\n",
        " 2,\n",
        " 2,\n",
        " 2,\n",
        " 2,\n",
        " 2,\n",
        " 2,\n",
        " 2,\n",
        " 2,\n",
        " 2,\n",
        " 2,\n",
        " 2,\n",
        " 2,\n",
        " 3,\n",
        " 3,\n",
        " 3,\n",
        " 3,\n",
        " 3,\n",
        " 3,\n",
        " 3,\n",
        " 3,\n",
        " 3,\n",
        " 3,\n",
        " 3,\n",
        " 3,\n",
        " 3,\n",
        " 3,\n",
        " 3,\n",
        " 3,\n",
        " 3,\n",
        " 3,\n",
        " 3,\n",
        " 3,\n",
        " 3,\n",
        " 3,\n",
        " 3,\n",
        " 3,\n",
        " 3,\n",
        " 3,\n",
        " 3,\n",
        " 3,\n",
        " 3,\n",
        " 3,\n",
        " 3,\n",
        " 3,\n",
        " 3,\n",
        " 3,\n",
        " 3,\n",
        " 3,\n",
        " 3,\n",
        " 3,\n",
        " 3,\n",
        " 3,\n",
        " 3,\n",
        " 3,\n",
        " 3,\n",
        " 3,\n",
        " 3,\n",
        " 3,\n",
        " 3,\n",
        " 3,\n",
        " 3,\n",
        " 3,\n",
        " 3,\n",
        " 3,\n",
        " 3,\n",
        " 3,\n",
        " 3,\n",
        " 3,\n",
        " 3,\n",
        " 3,\n",
        " 3,\n",
        " 3,\n",
        " 3,\n",
        " 3,\n",
        " 3,\n",
        " 3,\n",
        " 3,\n",
        " 3,\n",
        " 3,\n",
        " 3,\n",
        " 3,\n",
        " 3]"
      ],
      "execution_count": 27,
      "outputs": []
    },
    {
      "cell_type": "code",
      "metadata": {
        "id": "B-oLuy1miJxo",
        "colab_type": "code",
        "colab": {
          "base_uri": "https://localhost:8080/",
          "height": 268
        },
        "outputId": "9910e9a3-7750-408d-95d5-bbb6a0c5ec8c"
      },
      "source": [
        "# Import TSNE\n",
        "from sklearn.manifold import TSNE\n",
        "\n",
        "# Create a TSNE instance: model\n",
        "model = TSNE(learning_rate=200)\n",
        "\n",
        "# Apply fit_transform to samples: tsne_features\n",
        "tsne_features = model.fit_transform(samples)\n",
        "\n",
        "# Select the 0th feature: xs\n",
        "xs = tsne_features[:,0]\n",
        "\n",
        "# Select the 1st feature: ys\n",
        "ys = tsne_features[:,1]\n",
        "\n",
        "# Scatter plot, coloring by variety_numbers\n",
        "plt.scatter(xs,ys,c=variety_numbers)\n",
        "plt.show()\n"
      ],
      "execution_count": 28,
      "outputs": [
        {
          "output_type": "display_data",
          "data": {
            "image/png": "[encoded data removed]",
            "text/plain": [
              "<Figure size 432x288 with 1 Axes>"
            ]
          },
          "metadata": {
            "tags": [],
            "needs_background": "light"
          }
        }
      ]
    },
    {
      "cell_type": "markdown",
      "metadata": {
        "id": "8IF6Kw56ijD6",
        "colab_type": "text"
      },
      "source": [
        "# 6. A t-SNE map of the stock market\n",
        "t-SNE provides great visualizations when the individual samples can be labeled. In this exercise, you'll apply t-SNE to the company stock price data. A scatter plot of the resulting t-SNE features, labeled by the company names, gives you a map of the stock market! The stock price movements for each company are available as the array normalized_movements (these have already been normalized for you). The list companies gives the name of each company. PyPlot (plt) has been imported for you."
      ]
    },
    {
      "cell_type": "code",
      "metadata": {
        "id": "OAuY9CvUiNVn",
        "colab_type": "code",
        "colab": {
          "base_uri": "https://localhost:8080/",
          "height": 265
        },
        "outputId": "07b4f419-b418-44be-8947-28d19415be63"
      },
      "source": [
        "# Import TSNE\n",
        "from sklearn.manifold import TSNE\n",
        "\n",
        "# Create a TSNE instance: model\n",
        "model = TSNE(learning_rate=50)\n",
        "\n",
        "# Apply fit_transform to normalized_movements: tsne_features\n",
        "tsne_features = model.fit_transform(normalized_movements)\n",
        "\n",
        "# Select the 0th feature: xs\n",
        "xs = tsne_features[:,0]\n",
        "\n",
        "# Select the 1th feature: ys\n",
        "ys = tsne_features[:,1]\n",
        "\n",
        "# Scatter plot\n",
        "plt.scatter(xs,ys,alpha=0.5)\n",
        "\n",
        "# Annotate the points\n",
        "for x, y, company in zip(xs, ys, companies):\n",
        "    plt.annotate(company, (x, y), fontsize=5, alpha=0.75)\n",
        "plt.show()\n"
      ],
      "execution_count": 29,
      "outputs": [
        {
          "output_type": "display_data",
          "data": {
            "image/png": "[encoded data removed]",
            "text/plain": [
              "<Figure size 432x288 with 1 Axes>"
            ]
          },
          "metadata": {
            "tags": [],
            "needs_background": "light"
          }
        }
      ]
    },
    {
      "cell_type": "code",
      "metadata": {
        "id": "8chT6mNoik8_",
        "colab_type": "code",
        "colab": {}
      },
      "source": [
        ""
      ],
      "execution_count": null,
      "outputs": []
    }
  ]
}